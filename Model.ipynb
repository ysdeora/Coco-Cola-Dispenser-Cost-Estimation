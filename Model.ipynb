{
 "cells": [
  {
   "cell_type": "code",
   "execution_count": 44,
   "metadata": {},
   "outputs": [],
   "source": [
    "## import libraries\n",
    "import pandas as pd\n",
    "import numpy as np\n",
    "import re\n",
    "import difflib\n",
    "import swifter"
   ]
  },
  {
   "cell_type": "markdown",
   "metadata": {},
   "source": [
    "### WO file correction -- 2023"
   ]
  },
  {
   "cell_type": "code",
   "execution_count": 45,
   "metadata": {},
   "outputs": [],
   "source": [
    "## correction of WO/ reactive file 2023\n",
    "\n",
    "dfr = pd.read_excel(\"/Users/yashvardhansingh/Desktop/Valiance/cocacola/phase_2/By Dispenser Aggs/2023 reactive service FS9X.xlsx\")\n",
    "column_name_change = {'part_id':'date','platform2':'Platform','priloc':'Issue_desc','Serial Number':'serial_num','customer_name__c':'Chain_Name__c'}\n",
    "dfr = dfr.rename(columns=column_name_change)\n",
    "dfi = pd.read_excel(\"/Users/yashvardhansingh/Desktop/Valiance/cocacola/phase_2/DECAF Install Base v3.xlsx\")\n",
    "column_name_change = {'acn':'outletacn','FS_Serial_Number__c':'serial_num'}\n",
    "dfi = dfi.rename(columns=column_name_change)"
   ]
  },
  {
   "cell_type": "code",
   "execution_count": 46,
   "metadata": {},
   "outputs": [],
   "source": [
    "## variables\n",
    "date = 'date'\n",
    "wo_num = 'workordernumber'\n",
    "outlet_num = 'outletacn'\n",
    "platform = 'Platform'\n",
    "cost = 'invoice_total__c'\n",
    "issue = 'Issue_desc'\n",
    "serial_num = 'serial_num'\n",
    "city = 'Outlet_City__c'\n",
    "state = 'Outlet_State_Province__c'\n",
    "country = 'Outlet_Country__c'\n",
    "chain_name = 'Chain_Name__c'\n",
    "channel = 'trade_channel'\n",
    "install_date = 'DECAF Install Date'\n",
    "removal_date = 'DECAF Removal Date'"
   ]
  },
  {
   "cell_type": "code",
   "execution_count": 47,
   "metadata": {},
   "outputs": [],
   "source": [
    "level = [date,wo_num,platform,outlet_num,serial_num,cost,issue]\n",
    "dfr = dfr[level].reset_index(drop=True)\n",
    "dfi = dfi[~dfi[serial_num].isna()].reset_index(drop=True)"
   ]
  },
  {
   "cell_type": "code",
   "execution_count": 50,
   "metadata": {},
   "outputs": [
    {
     "name": "stdout",
     "output_type": "stream",
     "text": [
      "Correct serial in unique terms %: 0.81\n"
     ]
    }
   ],
   "source": [
    "## percentage of serial number found in install base\n",
    "found = dfr[dfr[serial_num].isin(dfi[serial_num].unique())][serial_num].nunique()\n",
    "total = dfr[serial_num].nunique()\n",
    "print('Correct serial in unique terms %: {}'.format(round(found/total,2)))"
   ]
  },
  {
   "cell_type": "code",
   "execution_count": 49,
   "metadata": {},
   "outputs": [],
   "source": [
    "## do basic correction in serial numbers\n",
    "dfr[serial_num] = dfr[serial_num].apply(lambda x: re.sub(r'\\W+', '', x).upper()if pd.notna(x) else x)"
   ]
  },
  {
   "cell_type": "code",
   "execution_count": 51,
   "metadata": {},
   "outputs": [],
   "source": [
    "## date correction\n",
    "dfr[date] = pd.to_datetime(dfr[date], format='%Y%m%d')\n",
    "fill_date = pd.to_datetime('2150-1-1')\n",
    "dfi[removal_date].fillna(fill_date,inplace=True)"
   ]
  },
  {
   "cell_type": "code",
   "execution_count": 52,
   "metadata": {},
   "outputs": [],
   "source": [
    "def close_match(df,dfi = dfi):\n",
    "    serial = df[serial_num].iloc[0]\n",
    "    outlet_no = df[outlet_num].iloc[0]\n",
    "    platform_no = df[platform].iloc[0]\n",
    "    date_no = df[date].iloc[0]\n",
    "    new_serials = dfi[(dfi[outlet_num]==outlet_no)&(dfi[platform]==platform_no)&(dfi[install_date]<date_no)&(dfi[removal_date]>date_no)][serial_num].unique().tolist()\n",
    "    approx_serial = dfi[(dfi[serial_num]==serial)&(dfi[install_date]<date_no)&(dfi[removal_date]>date_no)][serial_num].unique().tolist()\n",
    "\n",
    "    ## take care of cases where serial number is correct but outlet or platform is not\n",
    "    if pd.isna(serial) and not new_serials:\n",
    "        df['closest_match'] = None\n",
    "        df['reason'] = 'no valid serial_num in both the sheets'\n",
    "        return df\n",
    "    elif not new_serials:\n",
    "        if not pd.isna(serial) and approx_serial:\n",
    "            df['closest_match'] = approx_serial[0]\n",
    "            df['reason'] = 'Found exact match'\n",
    "            return df\n",
    "        else:\n",
    "            df['closest_match'] = None\n",
    "            df['reason'] = 'no valid serial_num in the Base Sheet'\n",
    "            return df\n",
    "    elif pd.isna(serial) and len(new_serials)>=1:\n",
    "        df['closest_match'] = new_serials[0]\n",
    "        df['reason'] = 'no valid serial_num in the WO Sheet but found in Base Sheet'\n",
    "        return df\n",
    "    elif not pd.isna(serial) and  len(new_serials)==1:\n",
    "        if serial == new_serials[0]:\n",
    "            df['closest_match'] = new_serials[0]\n",
    "            df['reason'] = 'Found exact match'\n",
    "            return df\n",
    "        else:\n",
    "            df['closest_match'] = new_serials[0]\n",
    "            df['reason'] = 'Not exact match but only one in Base Sheet'\n",
    "            return df\n",
    "    elif not pd.isna(serial) and  len(new_serials)>1:\n",
    "        if serial in new_serials:\n",
    "            df['closest_match'] = serial\n",
    "            df['reason'] = 'Found exact match'\n",
    "            return df\n",
    "        elif approx_serial:\n",
    "            df['closest_match'] = serial\n",
    "            df['reason'] = 'Found exact match'\n",
    "            return df\n",
    "        else:\n",
    "            matches = difflib.get_close_matches(serial, new_serials)\n",
    "            if matches:\n",
    "                df['closest_match'] = matches[0]\n",
    "                df['reason'] = 'Found a Close Match from many serial nos in Base Sheet'\n",
    "                return df\n",
    "            else:\n",
    "                df['closest_match'] = new_serials[0]\n",
    "                df['reason'] = 'Found a random Match from many serial nos in Base Sheet'\n",
    "                return df\n",
    "    else:\n",
    "        df['closest_match'] = None\n",
    "        df['reason'] = 'No Usecase'\n",
    "        return df"
   ]
  },
  {
   "cell_type": "code",
   "execution_count": 53,
   "metadata": {},
   "outputs": [],
   "source": [
    "results = dfr.groupby([wo_num],dropna=False).apply(close_match).reset_index(drop=True)"
   ]
  },
  {
   "cell_type": "code",
   "execution_count": 54,
   "metadata": {},
   "outputs": [],
   "source": [
    "results.to_excel(\"WO_sheet_modified_2023.xlsx\",index=False)"
   ]
  },
  {
   "cell_type": "markdown",
   "metadata": {},
   "source": [
    "### WO file correction -- 2022"
   ]
  },
  {
   "cell_type": "code",
   "execution_count": 35,
   "metadata": {},
   "outputs": [],
   "source": [
    "## correction of WO/ reactive file 2023\n",
    "\n",
    "dfr = pd.read_excel(\"/Users/yashvardhansingh/Desktop/Valiance/cocacola/phase_2/2022 - By Dispenser aggs/2022 Reactive service - By Dispenser.xlsx\")\n",
    "column_name_change = {'part_id':'date','platform2':'Platform','priloc':'Issue_desc','Serial Number':'serial_num','customer_name__c':'Chain_Name__c'}\n",
    "dfr = dfr.rename(columns=column_name_change)\n",
    "dfi = pd.read_excel(\"/Users/yashvardhansingh/Desktop/Valiance/cocacola/phase_2/DECAF Install Base v3.xlsx\")\n",
    "column_name_change = {'acn':'outletacn','FS_Serial_Number__c':'serial_num'}\n",
    "dfi = dfi.rename(columns=column_name_change)"
   ]
  },
  {
   "cell_type": "code",
   "execution_count": 36,
   "metadata": {},
   "outputs": [],
   "source": [
    "## variables\n",
    "date = 'date'\n",
    "wo_num = 'workordernumber'\n",
    "outlet_num = 'outletacn'\n",
    "platform = 'Platform'\n",
    "cost = 'invoice_total__c'\n",
    "issue = 'Issue_desc'\n",
    "serial_num = 'serial_num'\n",
    "city = 'Outlet_City__c'\n",
    "state = 'Outlet_State_Province__c'\n",
    "country = 'Outlet_Country__c'\n",
    "chain_name = 'Chain_Name__c'\n",
    "channel = 'trade_channel'\n",
    "install_date = 'DECAF Install Date'\n",
    "removal_date = 'DECAF Removal Date'"
   ]
  },
  {
   "cell_type": "code",
   "execution_count": 37,
   "metadata": {},
   "outputs": [],
   "source": [
    "level = [date,wo_num,platform,outlet_num,serial_num,cost,issue]\n",
    "dfr = dfr[level].reset_index(drop=True)\n",
    "dfr[serial_num] = dfr[serial_num].astype(str)\n",
    "dfi = dfi[~dfi[serial_num].isna()].reset_index(drop=True)"
   ]
  },
  {
   "cell_type": "code",
   "execution_count": 38,
   "metadata": {},
   "outputs": [
    {
     "name": "stdout",
     "output_type": "stream",
     "text": [
      "Correct serial in unique terms %: 0.59\n"
     ]
    }
   ],
   "source": [
    "## percentage of serial number found in install base\n",
    "found = dfr[dfr[serial_num].isin(dfi[serial_num].unique())][serial_num].nunique()\n",
    "total = dfr[serial_num].nunique()\n",
    "print('Correct serial in unique terms %: {}'.format(round(found/total,2)))"
   ]
  },
  {
   "cell_type": "markdown",
   "metadata": {},
   "source": [
    "- initial -- 0.59\n",
    "- after standardization --- 0.77"
   ]
  },
  {
   "cell_type": "code",
   "execution_count": 39,
   "metadata": {},
   "outputs": [],
   "source": [
    "## do basic correction in serial numbers\n",
    "dfr[serial_num] = dfr[serial_num].apply(lambda x: re.sub(r'\\W+', '', x).upper()if pd.notna(x) else x)"
   ]
  },
  {
   "cell_type": "code",
   "execution_count": 40,
   "metadata": {},
   "outputs": [],
   "source": [
    "## date correction\n",
    "dfr[date] = pd.to_datetime(dfr[date], format='%Y%m%d')\n",
    "fill_date = pd.to_datetime('2150-1-1')\n",
    "dfi[removal_date].fillna(fill_date,inplace=True)"
   ]
  },
  {
   "cell_type": "code",
   "execution_count": 41,
   "metadata": {},
   "outputs": [],
   "source": [
    "def close_match(df,dfi = dfi):\n",
    "    serial = df[serial_num].iloc[0]\n",
    "    outlet_no = df[outlet_num].iloc[0]\n",
    "    platform_no = df[platform].iloc[0]\n",
    "    date_no = df[date].iloc[0]\n",
    "    new_serials = dfi[(dfi[outlet_num]==outlet_no)&(dfi[platform]==platform_no)&(dfi[install_date]<date_no)&(dfi[removal_date]>date_no)][serial_num].unique().tolist()\n",
    "    approx_serial = dfi[(dfi[serial_num]==serial)&(dfi[install_date]<date_no)&(dfi[removal_date]>date_no)][serial_num].unique().tolist()\n",
    "\n",
    "    ## take care of cases where serial number is correct but outlet or platform is not\n",
    "    if pd.isna(serial) and not new_serials:\n",
    "        df['closest_match'] = None\n",
    "        df['reason'] = 'no valid serial_num in both the sheets'\n",
    "        return df\n",
    "    elif not new_serials:\n",
    "        if not pd.isna(serial) and approx_serial:\n",
    "            df['closest_match'] = approx_serial[0]\n",
    "            df['reason'] = 'Found exact match'\n",
    "            return df\n",
    "        else:\n",
    "            df['closest_match'] = None\n",
    "            df['reason'] = 'no valid serial_num in the Base Sheet'\n",
    "            return df\n",
    "    elif pd.isna(serial) and len(new_serials)>=1:\n",
    "        df['closest_match'] = new_serials[0]\n",
    "        df['reason'] = 'no valid serial_num in the WO Sheet but found in Base Sheet'\n",
    "        return df\n",
    "    elif not pd.isna(serial) and  len(new_serials)==1:\n",
    "        if serial == new_serials[0]:\n",
    "            df['closest_match'] = new_serials[0]\n",
    "            df['reason'] = 'Found exact match'\n",
    "            return df\n",
    "        else:\n",
    "            df['closest_match'] = new_serials[0]\n",
    "            df['reason'] = 'Not exact match but only one in Base Sheet'\n",
    "            return df\n",
    "    elif not pd.isna(serial) and  len(new_serials)>1:\n",
    "        if serial in new_serials:\n",
    "            df['closest_match'] = serial\n",
    "            df['reason'] = 'Found exact match'\n",
    "            return df\n",
    "        elif approx_serial:\n",
    "            df['closest_match'] = serial\n",
    "            df['reason'] = 'Found exact match'\n",
    "            return df\n",
    "        else:\n",
    "            matches = difflib.get_close_matches(serial, new_serials)\n",
    "            if matches:\n",
    "                df['closest_match'] = matches[0]\n",
    "                df['reason'] = 'Found a Close Match from many serial nos in Base Sheet'\n",
    "                return df\n",
    "            else:\n",
    "                df['closest_match'] = new_serials[0]\n",
    "                df['reason'] = 'Found a random Match from many serial nos in Base Sheet'\n",
    "                return df\n",
    "    else:\n",
    "        df['closest_match'] = None\n",
    "        df['reason'] = 'No Usecase'\n",
    "        return df"
   ]
  },
  {
   "cell_type": "code",
   "execution_count": 42,
   "metadata": {},
   "outputs": [],
   "source": [
    "results = dfr.groupby([wo_num],dropna=False).apply(close_match).reset_index(drop=True)"
   ]
  },
  {
   "cell_type": "code",
   "execution_count": 43,
   "metadata": {},
   "outputs": [],
   "source": [
    "results.to_excel(\"WO_sheet_modified_2022.xlsx\",index=False)"
   ]
  },
  {
   "cell_type": "markdown",
   "metadata": {},
   "source": [
    "### MODEL - 1"
   ]
  }
 ],
 "metadata": {
  "kernelspec": {
   "display_name": "yashml",
   "language": "python",
   "name": "python3"
  },
  "language_info": {
   "codemirror_mode": {
    "name": "ipython",
    "version": 3
   },
   "file_extension": ".py",
   "mimetype": "text/x-python",
   "name": "python",
   "nbconvert_exporter": "python",
   "pygments_lexer": "ipython3",
   "version": "3.11.7"
  }
 },
 "nbformat": 4,
 "nbformat_minor": 2
}
